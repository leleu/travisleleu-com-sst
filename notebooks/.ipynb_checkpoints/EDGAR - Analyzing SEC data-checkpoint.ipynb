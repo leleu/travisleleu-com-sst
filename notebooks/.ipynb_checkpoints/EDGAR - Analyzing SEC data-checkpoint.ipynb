{
 "cells": [
  {
   "cell_type": "markdown",
   "metadata": {},
   "source": [
    "# EDGAR\n",
    "The SEC publishes data from registered entities in its EDGAR database.  They offfer convenient data access, using tgz files accessible via http.\n",
    "\n",
    "This notebook acquires, loads, and explores the data from 2017."
   ]
  },
  {
   "cell_type": "code",
   "execution_count": 2,
   "metadata": {
    "collapsed": true
   },
   "outputs": [],
   "source": [
    "datadir = '/Users/leleu/src/travisleleu-com-sst/notebooks/data/edgar/'\n",
    "fname = '20170705'\n",
    "f = '{0}{1}'.format( datadir, fname )\n",
    "with open( f, 'r' ) as fp:\n",
    "    pass"
   ]
  },
  {
   "cell_type": "code",
   "execution_count": null,
   "metadata": {
    "collapsed": true
   },
   "outputs": [],
   "source": []
  }
 ],
 "metadata": {
  "kernelspec": {
   "display_name": "Python 3",
   "language": "python",
   "name": "python3"
  },
  "language_info": {
   "codemirror_mode": {
    "name": "ipython",
    "version": 3
   },
   "file_extension": ".py",
   "mimetype": "text/x-python",
   "name": "python",
   "nbconvert_exporter": "python",
   "pygments_lexer": "ipython3",
   "version": "3.5.4"
  }
 },
 "nbformat": 4,
 "nbformat_minor": 2
}
